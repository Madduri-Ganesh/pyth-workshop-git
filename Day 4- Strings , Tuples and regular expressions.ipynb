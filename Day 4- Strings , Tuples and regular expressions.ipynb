{
 "cells": [
  {
   "cell_type": "markdown",
   "metadata": {},
   "source": [
    "# String boolean function\n",
    "- True or False\n",
    "- islower()= True if string have all lowercase characters\n",
    "- isupper()= True if string have all uppercase characters\n",
    "- isalpha()= True if string is alphanumeric\n",
    "- isnumeric()= True if string is completely numeric\n",
    "- istitle()= True if the string is a title"
   ]
  },
  {
   "cell_type": "code",
   "execution_count": 9,
   "metadata": {},
   "outputs": [
    {
     "data": {
      "text/plain": [
       "'p=y=t=h=o=n'"
      ]
     },
     "execution_count": 9,
     "metadata": {},
     "output_type": "execute_result"
    }
   ],
   "source": [
    "#join method and replace method\n",
    "s1=\"python\"\n",
    "s2 = \"-\"\n",
    "(s2.join(s1)).replace(\"-\",\"=\")\n"
   ]
  },
  {
   "cell_type": "markdown",
   "metadata": {},
   "source": [
    "# String formatting\n",
    "- classic version\n",
    "- python version"
   ]
  },
  {
   "cell_type": "code",
   "execution_count": 11,
   "metadata": {},
   "outputs": [
    {
     "name": "stdout",
     "output_type": "stream",
     "text": [
      "pyth Program\n"
     ]
    }
   ],
   "source": [
    "list1 = [\"pyth\", \"Program\"]\n",
    "print(\"%s %s\" % (list1[0],list1[1]))"
   ]
  },
  {
   "cell_type": "code",
   "execution_count": 13,
   "metadata": {},
   "outputs": [
    {
     "name": "stdout",
     "output_type": "stream",
     "text": [
      "List item 0: python \n",
      "List item 1 :program\n"
     ]
    }
   ],
   "source": [
    "# using .format\n",
    "list1 = [\"python\", \"program\"]\n",
    "print(\"List item 0: {0} \\nList item 1 :{1}\".format(list1[0],list1[1]))"
   ]
  },
  {
   "cell_type": "markdown",
   "metadata": {},
   "source": [
    "# Dictionaries\n",
    "- It worsk in concept of unique data\n",
    "- key.value is the unique idenifier a vaue\n",
    "- Each key is separated from the value by a colon\n",
    "- Each key:value pair is separated by a comma\n",
    "- Dictionaries are enclosed with the use of curly brackets"
   ]
  },
  {
   "cell_type": "code",
   "execution_count": 23,
   "metadata": {},
   "outputs": [
    {
     "name": "stdout",
     "output_type": "stream",
     "text": [
      "Gitam\n",
      "{'name': 'Gitam uni', 'Place': 'Vizag'}\n"
     ]
    }
   ],
   "source": [
    "d1 = {\"name\": \"Gitam\", \"Place\":\"Vizag\"}\n",
    "print (d1[\"name\"])\n",
    "d1[\"name\"]= \"Gitam uni\"\n",
    "print (d1)\n",
    "del d1[\"name\"]\n"
   ]
  },
  {
   "cell_type": "code",
   "execution_count": 7,
   "metadata": {},
   "outputs": [
    {
     "name": "stdout",
     "output_type": "stream",
     "text": [
      "Contact added\n",
      "Contact added\n",
      "Contact already exists\n"
     ]
    }
   ],
   "source": [
    "contacts={}\n",
    "def contactadd(name,num):\n",
    "    if name not in contacts:\n",
    "        contacts[name]=num\n",
    "        print(\"Contact added\")\n",
    "    else:\n",
    "        print(\"Contact already exists\")\n",
    "    return \n",
    "contactadd(\"Ganesh\", 123)\n",
    "contactadd(\"yogi\", 456)\n",
    "contactadd(\"Ganesh\",789)"
   ]
  },
  {
   "cell_type": "code",
   "execution_count": 10,
   "metadata": {},
   "outputs": [
    {
     "name": "stdout",
     "output_type": "stream",
     "text": [
      "Ganesh : 123\n",
      "Tony is not present\n"
     ]
    }
   ],
   "source": [
    "\n",
    "def contactsearch(name):\n",
    "    if name in contacts:\n",
    "        print(name,\":\",contacts[name])\n",
    "    else:\n",
    "        print('{0} is not present'.format(name))\n",
    "    return \n",
    "contactsearch(\"Ganesh\")\n",
    "contactsearch(\"Tony\")\n"
   ]
  },
  {
   "cell_type": "code",
   "execution_count": 12,
   "metadata": {},
   "outputs": [
    {
     "name": "stdout",
     "output_type": "stream",
     "text": [
      "3  New Contact are added\n"
     ]
    }
   ],
   "source": [
    "#Import new contact detail\n",
    "def importin(newcontacts):\n",
    "    contacts.update(newcontacts)\n",
    "    print(len(newcontacts.keys()),\" New Contact are added\")\n",
    "    return \n",
    "newcontacts={'Gitam' : 9898983, 'Anil': 9321839, \"Tony\": 993211993}\n",
    "importin(newcontacts)"
   ]
  },
  {
   "cell_type": "code",
   "execution_count": 14,
   "metadata": {},
   "outputs": [
    {
     "name": "stdout",
     "output_type": "stream",
     "text": [
      "Ganesh has been updated.\n",
      "Ali not found\n"
     ]
    }
   ],
   "source": [
    "def modify(name,phone):\n",
    "    if name in contacts:\n",
    "        contacts[name]=phone\n",
    "        print(name, \"has been updated.\")\n",
    "    else:\n",
    "        print(name ,\"not found\")\n",
    "    return \n",
    "modify(\"Ganesh\",800893232)\n",
    "modify(\"Ali\", 74382932)"
   ]
  },
  {
   "cell_type": "code",
   "execution_count": 17,
   "metadata": {},
   "outputs": [
    {
     "name": "stdout",
     "output_type": "stream",
     "text": [
      "Tony not found\n",
      "Ali not found\n"
     ]
    }
   ],
   "source": [
    "def terminator(name):\n",
    "    if name in contacts:\n",
    "        del contacts[name]\n",
    "        print(\"{0} deleted successfully \".format(name))\n",
    "    else:\n",
    "        print(\"%s not found\"% name)\n",
    "    return \n",
    "terminator(\"Tony\")\n",
    "terminator(\"Ali\")"
   ]
  },
  {
   "cell_type": "markdown",
   "metadata": {},
   "source": [
    "## Tuples\n",
    "- They are enclosed in ()\n",
    "## diff b/w Tuples and list\n",
    "- Lists are mutable\n",
    "- Tuples are immutable"
   ]
  },
  {
   "cell_type": "code",
   "execution_count": 18,
   "metadata": {},
   "outputs": [
    {
     "name": "stdout",
     "output_type": "stream",
     "text": [
      "(1, 2, 4, 5, 6)\n"
     ]
    }
   ],
   "source": [
    "t1=(1,2,4,5,6)\n",
    "print(t1)"
   ]
  },
  {
   "cell_type": "markdown",
   "metadata": {},
   "source": [
    "## standard libraries\n",
    "- Regular expressions\n",
    "    - To validate the username\n",
    "    - To validate the email\n",
    "    - To validate the indian mobile\n",
    "    - To validate the password\n",
    "- Understanding the Regular expression\n",
    "    - [0-9] - Any number matching\n",
    "    "
   ]
  },
  {
   "cell_type": "code",
   "execution_count": 22,
   "metadata": {},
   "outputs": [
    {
     "name": "stdout",
     "output_type": "stream",
     "text": [
      "True\n",
      "False\n"
     ]
    }
   ],
   "source": [
    "import re\n",
    "def twodigitmatch(n):\n",
    "    pattern = '^[0-9]{2}$'\n",
    "    n= str(n)\n",
    "    if re.match(pattern,n):\n",
    "        return True\n",
    "    return False\n",
    "print(twodigitmatch(23))\n",
    "print(twodigitmatch(9))\n",
    "    "
   ]
  },
  {
   "cell_type": "code",
   "execution_count": 1,
   "metadata": {},
   "outputs": [
    {
     "name": "stdout",
     "output_type": "stream",
     "text": [
      "True\n",
      "False\n"
     ]
    }
   ],
   "source": [
    "import re\n",
    "def stringmatch(s):\n",
    "    pattern = '[a-zA-Z]{4,11}$'\n",
    "    if re.match(pattern,s):\n",
    "        return True\n",
    "    return False\n",
    "print(stringmatch(\"Python\"))\n",
    "print(stringmatch(\"ok\"))\n"
   ]
  },
  {
   "cell_type": "markdown",
   "metadata": {},
   "source": [
    "## Regular Expression for indian mobile\n",
    "- 10 Digit number\n",
    "    - First number starts from [6-9]\n",
    "    - Rest of 9 number is between [0-9]\n",
    "- 11 digit number\n",
    "    - first number is 0\n",
    "    - second number can be between [6-9]\n",
    "    - Rest of 9 numbers is between [0-9]\n",
    "- 13 digit number\n",
    "    - first number van be +\n",
    "    - second number is 9\n",
    "    - third number is 1\n",
    "    - fourth number [6-9]\n",
    "    - Rest of numbers[0-9]\n",
    "    "
   ]
  },
  {
   "cell_type": "code",
   "execution_count": 13,
   "metadata": {},
   "outputs": [
    {
     "name": "stdout",
     "output_type": "stream",
     "text": [
      "True\n"
     ]
    }
   ],
   "source": [
    "# Rule 1 :  ^[6-9][0-9]{9}\n",
    "# Rule 2 : ^[0][6-9][0-9]{9}\n",
    "# Rule 3 : ^[+][9][1][6-9][0-9]{9}\n",
    "def checknum(num):\n",
    "    pattern = '^[6-9][0-9]{9}$|^[0][6-9][0-9]{9}$|^[+][9][1][6-9][0-9]{9}$'\n",
    "    if re.match(pattern,num):\n",
    "        return True\n",
    "    return False\n",
    "print(checknum(\"+919998797897\"))"
   ]
  },
  {
   "cell_type": "markdown",
   "metadata": {},
   "source": [
    "## Validate the Email ID\n",
    "- Example : username@DomainName.extension\n",
    "- Username:\n",
    "    - Len of string will be [6-15]\n",
    "    - No Spl Characters except Underscore(_) and dot(.)\n",
    "    - Username should not begin with Underscore(_)\n",
    "    - All characters set digits , Lower case and Upper case\n",
    "        - Example : Anil_1889\n",
    "- DomainName:\n",
    "    - Len of String will be [3-18]\n",
    "    - No Spls characters\n",
    "    - Characters set will be Digits ,Lower case and Upper case\n",
    "        - Example : gmail, hotmail,ymail,rediff and etc....\n",
    "- Extensions :\n",
    "    - Len o fstring will be [2-4]\n",
    "    - No Spl characters allowed\n",
    "    - CHaracter set will be lower case characters\n",
    "        - Example: com,in,uk"
   ]
  },
  {
   "cell_type": "code",
   "execution_count": 7,
   "metadata": {},
   "outputs": [
    {
     "name": "stdout",
     "output_type": "stream",
     "text": [
      "True\n"
     ]
    }
   ],
   "source": [
    "#username :^[a-zA-Z0-9][a-zA-Z0-9_.]{5,14}$\n",
    "#Domain name: ^[a-z0-9]{3,17}$\n",
    "#Extensions : ^^[a-z]{2,4}$\n",
    "def emailmker(strin):\n",
    "    pattern = '^[a-zA-Z0-9][a-zA-Z0-9_.]{5,14}[@][a-z0-9]{3,17}.[a-z]{2,4}$'\n",
    "    if re.match(pattern,strin):\n",
    "        return True\n",
    "    return False\n",
    "print(emailmker(\"mganesh2k@gmail.com\"))"
   ]
  },
  {
   "cell_type": "code",
   "execution_count": 19,
   "metadata": {},
   "outputs": [
    {
     "name": "stdout",
     "output_type": "stream",
     "text": [
      "60 71 44 40 72 "
     ]
    }
   ],
   "source": [
    "import random\n",
    "def generateRandNum(n,lb,ub):\n",
    "    for i in range(n):\n",
    "        print(random.randint(lb,ub),end=\" \")\n",
    "generateRandNum(5,1,100)        "
   ]
  },
  {
   "cell_type": "code",
   "execution_count": 20,
   "metadata": {},
   "outputs": [
    {
     "name": "stdout",
     "output_type": "stream",
     "text": [
      "Try again!!\n"
     ]
    }
   ],
   "source": [
    "from random import randint as rand\n",
    "def generatenumber(n,lb,ub):\n",
    "    li =[]\n",
    "    for i in range(0,n):\n",
    "        li.append(rand(lb,ub))\n",
    "    return li\n",
    "def check(n):\n",
    "    li = generatenumber(20,100,999)\n",
    "    if n in li:\n",
    "        print('Congrats!!')\n",
    "    else:\n",
    "        print(\"Try again!!\")\n",
    "    return \n",
    "check (569)"
   ]
  },
  {
   "cell_type": "code",
   "execution_count": null,
   "metadata": {},
   "outputs": [],
   "source": []
  }
 ],
 "metadata": {
  "kernelspec": {
   "display_name": "Python 3",
   "language": "python",
   "name": "python3"
  },
  "language_info": {
   "codemirror_mode": {
    "name": "ipython",
    "version": 3
   },
   "file_extension": ".py",
   "mimetype": "text/x-python",
   "name": "python",
   "nbconvert_exporter": "python",
   "pygments_lexer": "ipython3",
   "version": "3.7.3"
  }
 },
 "nbformat": 4,
 "nbformat_minor": 2
}
