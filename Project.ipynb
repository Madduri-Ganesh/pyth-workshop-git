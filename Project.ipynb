{
 "cells": [
  {
   "cell_type": "markdown",
   "metadata": {},
   "source": [
    "# Mini-Project 1\n"
   ]
  },
  {
   "cell_type": "code",
   "execution_count": 46,
   "metadata": {},
   "outputs": [
    {
     "name": "stdout",
     "output_type": "stream",
     "text": [
      "{2008: 58, 2009: 57, 2010: 60, 2011: 73, 2012: 74, 2013: 76, 2014: 60, 2015: 59, 2016: 60, 2017: 60}\n"
     ]
    }
   ],
   "source": [
    "dict1={}\n",
    "\n",
    "for i in range(637):\n",
    "    if df.values[i][5] in dict1:\n",
    "        dict1[df.values[i][5]]+=1\n",
    "    else:\n",
    "        dict1[df.values[i][5]]=1\n",
    "print (dict1)"
   ]
  },
  {
   "cell_type": "code",
   "execution_count": 71,
   "metadata": {},
   "outputs": [
    {
     "data": {
      "text/plain": [
       "DA Warner            6\n",
       "DW Steyn             3\n",
       "SK Raina             2\n",
       "V Sehwag             2\n",
       "A Mishra             2\n",
       "YK Pathan            2\n",
       "GH Vihari            2\n",
       "MJ McClenaghan       1\n",
       "SE Marsh             1\n",
       "SL Malinga           1\n",
       "R Vinay Kumar        1\n",
       "DJG Sammy            1\n",
       "MR Marsh             1\n",
       "V Kohli              1\n",
       "AT Rayudu            1\n",
       "PC Valthaty          1\n",
       "AB Dinda             1\n",
       "I Sharma             1\n",
       "PA Patel             1\n",
       "Mustafizur Rahman    1\n",
       "CH Morris            1\n",
       "G Gambhir            1\n",
       "SC Ganguly           1\n",
       "WP Saha              1\n",
       "DJ Bravo             1\n",
       "SK Trivedi           1\n",
       "B Kumar              1\n",
       "UT Yadav             1\n",
       "Mandeep Singh        1\n",
       "Name: ManOfMach, dtype: int64"
      ]
     },
     "execution_count": 71,
     "metadata": {},
     "output_type": "execute_result"
    }
   ],
   "source": [
    "dp = df[df['City_Name']=='Hyderabad']\n",
    "dp['ManOfMach'].value_counts()"
   ]
  },
  {
   "cell_type": "code",
   "execution_count": 79,
   "metadata": {},
   "outputs": [
    {
     "data": {
      "text/plain": [
       "<BarContainer object of 11 artists>"
      ]
     },
     "execution_count": 79,
     "metadata": {},
     "output_type": "execute_result"
    },
    {
     "data": {
      "image/png": "[encoded data removed]",
      "text/plain": [
       "<Figure size 432x288 with 1 Axes>"
      ]
     },
     "metadata": {
      "needs_background": "light"
     },
     "output_type": "display_data"
    }
   ],
   "source": [
    "import matplotlib.pyplot as plt\n",
    "import numpy as np\n",
    "teams=('RCB','DD','CSK','KXIP','MI','KKR','RR','DC','SRH','PW','KTK')\n",
    "wins={}\n",
    "(RCB,DD,CSK,KXIP,MI,KKR,RR,DC,SRH,KTK,PW)=(0,0,0,0,0,0,0,0,0,0,0)\n",
    "\n",
    "for i in range(175,248):\n",
    "    if df['match_winner'][i]== \"Kolkata Knight Riders\":\n",
    "        KKR+=1\n",
    "    if df['match_winner'][i]== \"Chennai Super Kings\":\n",
    "        CSK+=1\n",
    "    if df['match_winner'][i]== \"Delhi Daredevils\":\n",
    "        DD+=1\n",
    "    if df['match_winner'][i]== \"Mumbai Indians\":\n",
    "        MI+=1\n",
    "    if df['match_winner'][i]== \"Royal Challengers Bangalore\":\n",
    "        RCB+=1\n",
    "    if df['match_winner'][i]== \"Kings XI Punjab\":\n",
    "        KXIP+=1\n",
    "    if df['match_winner'][i]== \"Sunrisers Hyderabad\":\n",
    "        SRH+=1\n",
    "    if df['match_winner'][i]== \"Rajasthan Royals\":\n",
    "        RR+=1\n",
    "    if df['match_winner'][i]== \"Deccan Chargers\":\n",
    "        DC+=1\n",
    "    if df['match_winner'][i]== \"Kochi Tuskers Kerala\":\n",
    "        KTK+=1\n",
    "    else:\n",
    "        PW+=1\n",
    "a1=(RCB,DD,CSK,KXIP,MI,KKR,RR,DC,SRH,KTK,PW)\n",
    "\n",
    "width=0.70\n",
    "index = np.arange(len(teams))\n",
    "plt.bar(teams,a1,color='blue', width=0.70)\n",
    "\n",
    "        \n",
    "\n",
    "\n"
   ]
  }
 ],
 "metadata": {
  "kernelspec": {
   "display_name": "Python 3",
   "language": "python",
   "name": "python3"
  },
  "language_info": {
   "codemirror_mode": {
    "name": "ipython",
    "version": 3
   },
   "file_extension": ".py",
   "mimetype": "text/x-python",
   "name": "python",
   "nbconvert_exporter": "python",
   "pygments_lexer": "ipython3",
   "version": "3.7.3"
  }
 },
 "nbformat": 4,
 "nbformat_minor": 2
}
