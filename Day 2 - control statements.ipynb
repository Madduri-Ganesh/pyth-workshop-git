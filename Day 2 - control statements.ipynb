{
 "cells": [
  {
   "cell_type": "code",
   "execution_count": 3,
   "metadata": {},
   "outputs": [
    {
     "name": "stdout",
     "output_type": "stream",
     "text": [
      "Enter a number:\t10\n",
      "2 4 6 8 10 "
     ]
    }
   ],
   "source": [
    "n = int(input(\"Enter a number:\\t\"))\n",
    "\n",
    "for i in range(2,n+1,2):\n",
    "    print (i, end=\" \")"
   ]
  },
  {
   "cell_type": "code",
   "execution_count": 2,
   "metadata": {},
   "outputs": [
    {
     "name": "stdout",
     "output_type": "stream",
     "text": [
      "Enter a number:\t10\n",
      "0 2 4 6 8 10 "
     ]
    }
   ],
   "source": [
    "n = int(input(\"Enter a number:\\t\"))\n",
    "i=0\n",
    "while i<=n:\n",
    "    print(i, end=\" \")\n",
    "    i+=2"
   ]
  },
  {
   "cell_type": "code",
   "execution_count": 11,
   "metadata": {},
   "outputs": [
    {
     "name": "stdout",
     "output_type": "stream",
     "text": [
      "Enter a number:\t1023\n",
      "3 2 0 1 "
     ]
    }
   ],
   "source": [
    "#program to print the digits of a number\n",
    "n = int(input(\"Enter a number:\\t\"))\n",
    "while n!=0:\n",
    "    print(n%10,end=\" \")\n",
    "    n=n//10"
   ]
  },
  {
   "cell_type": "code",
   "execution_count": 5,
   "metadata": {},
   "outputs": [
    {
     "name": "stdout",
     "output_type": "stream",
     "text": [
      "[2]\n"
     ]
    }
   ],
   "source": [
    "list1=[]\n",
    "list1.append(2)\n",
    "print (list1)"
   ]
  },
  {
   "cell_type": "code",
   "execution_count": 1,
   "metadata": {},
   "outputs": [
    {
     "name": "stdout",
     "output_type": "stream",
     "text": [
      "Enter a number:\t123456\n",
      "12\n"
     ]
    }
   ],
   "source": [
    "#program ot print the even digit sum of the number\n",
    "n= int(input(\"Enter a number:\\t\"))\n",
    "p=0\n",
    "while n!=0:\n",
    "    q=n%10\n",
    "    if (q%2 == 0):\n",
    "        p=p+q\n",
    "        n=n//10\n",
    "    else:\n",
    "        n=n//10\n",
    "        continue\n",
    "print (p)        \n",
    "    "
   ]
  },
  {
   "cell_type": "code",
   "execution_count": 1,
   "metadata": {},
   "outputs": [
    {
     "name": "stdout",
     "output_type": "stream",
     "text": [
      "5\n"
     ]
    }
   ],
   "source": [
    "print (5)"
   ]
  },
  {
   "cell_type": "code",
   "execution_count": 2,
   "metadata": {},
   "outputs": [
    {
     "name": "stdout",
     "output_type": "stream",
     "text": [
      "Enter a number:\t1234\n",
      "4\n"
     ]
    }
   ],
   "source": [
    "n= int(input(\"Enter a number:\\t\"))\n",
    "largest=0\n",
    "while n!=0:\n",
    "    q=n%10\n",
    "    if (q>largest):\n",
    "        largest = q\n",
    "        n=n//10\n",
    "    else:\n",
    "        n=n//10\n",
    "        continue\n",
    "print (largest)        "
   ]
  },
  {
   "cell_type": "code",
   "execution_count": 8,
   "metadata": {},
   "outputs": [
    {
     "name": "stdout",
     "output_type": "stream",
     "text": [
      "Enter a number:\t145\n",
      "Yes\n"
     ]
    }
   ],
   "source": [
    "#program to check of the sum of the individual digit factorial\n",
    "def factorial(num):\n",
    "    i=num-1\n",
    "    fact=num\n",
    "    while i!=0:\n",
    "        fact=fact*(i)\n",
    "        i=i-1        \n",
    "    return fact\n",
    "n= int(input(\"Enter a number:\\t\"))\n",
    "sum=0\n",
    "m=n\n",
    "while n!=0:\n",
    "    p=n%10\n",
    "    sum =sum + factorial(p)\n",
    "    n=n//10\n",
    "if sum==m:\n",
    "    print(\"Yes\")\n",
    "else:\n",
    "    print(\"No\")"
   ]
  },
  {
   "cell_type": "code",
   "execution_count": 16,
   "metadata": {},
   "outputs": [
    {
     "name": "stdout",
     "output_type": "stream",
     "text": [
      "Enter a number:\t121\n",
      "Palindrome\n"
     ]
    }
   ],
   "source": [
    "#program to check if the number is a palindrome\n",
    "n= int(input(\"Enter a number:\\t\"))\n",
    "rev=0\n",
    "buffer =n\n",
    "while n!=0:\n",
    "    rev=rev*10+(n%10)\n",
    "    n=n//10\n",
    "if buffer==rev:\n",
    "    print(\"Palindrome\")\n",
    "else:\n",
    "    print(\"Not Palindrome\")"
   ]
  },
  {
   "cell_type": "code",
   "execution_count": 21,
   "metadata": {},
   "outputs": [
    {
     "name": "stdout",
     "output_type": "stream",
     "text": [
      "2 3 4 5 6 7 8 9 10 "
     ]
    }
   ],
   "source": [
    "def prinser(lb,ub):\n",
    "    for x in range(lb,ub+1):\n",
    "        print (x,end=' ')\n",
    "    return \n",
    "prinser(2,10)\n",
    "    "
   ]
  },
  {
   "cell_type": "code",
   "execution_count": 2,
   "metadata": {},
   "outputs": [
    {
     "name": "stdout",
     "output_type": "stream",
     "text": [
      "Enter a number:\t12\n",
      "1 2 3 4 6 12 "
     ]
    }
   ],
   "source": [
    "#problem statement 1\n",
    "n= int(input(\"Enter a number:\\t\"))\n",
    "for i in range(1,n+1):\n",
    "    if(n%i ==0):\n",
    "        print(i, end=\" \")\n",
    "    else:\n",
    "        continue"
   ]
  },
  {
   "cell_type": "code",
   "execution_count": 7,
   "metadata": {},
   "outputs": [
    {
     "name": "stdout",
     "output_type": "stream",
     "text": [
      "Enter a number11\n",
      "True\n"
     ]
    }
   ],
   "source": [
    "#problem statement 2\n",
    "n=int(input(\"Enter a number\"))\n",
    "count=0\n",
    "for i in range(2,n):\n",
    "    if(n%i ==0):\n",
    "        print(\"False\")\n",
    "        break\n",
    "    else:\n",
    "        continue\n",
    "if(count==0):\n",
    "    print(True)"
   ]
  },
  {
   "cell_type": "code",
   "execution_count": 19,
   "metadata": {},
   "outputs": [
    {
     "name": "stdout",
     "output_type": "stream",
     "text": [
      "Enter a input:\t1 \n",
      "Enter another input\t10\n",
      "9\n"
     ]
    }
   ],
   "source": [
    "#problem statement 4\n",
    "def check(num):\n",
    "    rev=0\n",
    "    buffer=num\n",
    "    while(num!=0):\n",
    "        rev=rev*10+(num%10)\n",
    "        num=num//10\n",
    "    if(rev == buffer):\n",
    "        return 1\n",
    "    else:\n",
    "        return 0\n",
    "    \n",
    "count=0\n",
    "lb= int(input(\"Enter a input:\\t\"))\n",
    "ub= int(input(\"Enter another input\\t\"))\n",
    "\n",
    "\n",
    "for i in range(lb,ub+1):\n",
    "    count=count+check(i)\n",
    "print (count)    \n",
    "    \n",
    "    "
   ]
  },
  {
   "cell_type": "code",
   "execution_count": 34,
   "metadata": {},
   "outputs": [
    {
     "name": "stdout",
     "output_type": "stream",
     "text": [
      "Enter a number10\n",
      "3\n"
     ]
    }
   ],
   "source": [
    "#problem statement 3\n",
    "\n",
    "def check(numb):\n",
    "    count=0\n",
    "    for i in range(2,n):\n",
    "        if(n%i ==0):\n",
    "            count=count+1\n",
    "            return 0    \n",
    "        \n",
    "    return 1\n",
    "n=int(input(\"Enter a number\"))\n",
    "count1=3\n",
    "count2=0\n",
    "for i in range(4,n+1):\n",
    "    count1=count1+check(i)\n",
    "    \n",
    "print(count1)"
   ]
  },
  {
   "cell_type": "code",
   "execution_count": null,
   "metadata": {},
   "outputs": [],
   "source": []
  }
 ],
 "metadata": {
  "kernelspec": {
   "display_name": "Python 3",
   "language": "python",
   "name": "python3"
  },
  "language_info": {
   "codemirror_mode": {
    "name": "ipython",
    "version": 3
   },
   "file_extension": ".py",
   "mimetype": "text/x-python",
   "name": "python",
   "nbconvert_exporter": "python",
   "pygments_lexer": "ipython3",
   "version": "3.7.3"
  }
 },
 "nbformat": 4,
 "nbformat_minor": 2
}
