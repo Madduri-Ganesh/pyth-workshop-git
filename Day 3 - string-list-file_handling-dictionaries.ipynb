{
 "cells": [
  {
   "cell_type": "code",
   "execution_count": 3,
   "metadata": {},
   "outputs": [
    {
     "name": "stdout",
     "output_type": "stream",
     "text": [
      "Python\n",
      "Programming\n",
      "Python Programming\n",
      "<class 'str'>\n"
     ]
    }
   ],
   "source": [
    "s1 = \"Python\"\n",
    "s2 = \"Programming\"\n",
    "print (s1)\n",
    "print (s2)\n",
    "print (s1+\" \"+s2)\n",
    "print (type(s1))"
   ]
  },
  {
   "cell_type": "code",
   "execution_count": 11,
   "metadata": {},
   "outputs": [
    {
     "name": "stdout",
     "output_type": "stream",
     "text": [
      "n\n",
      "h\n",
      "6\n",
      "P\n"
     ]
    }
   ],
   "source": [
    "#string slicing\n",
    "s1 = \"Python\"\n",
    "print(s1[len(s1)-1])\n",
    "print(s1[-3])\n",
    "print(len(s1))\n",
    "print(s1[-6])"
   ]
  },
  {
   "cell_type": "code",
   "execution_count": 13,
   "metadata": {},
   "outputs": [
    {
     "name": "stdout",
     "output_type": "stream",
     "text": [
      "Pr\n",
      "ng\n",
      "rogrammin\n",
      "gramming\n",
      "ogr\n"
     ]
    }
   ],
   "source": [
    "s1 =\"Programming\"\n",
    "print(s1[0:2])\n",
    "print(s1[-2:])\n",
    "print(s1[1:-1])\n",
    "print(s1[3:])\n",
    "print(s1[2:5])"
   ]
  },
  {
   "cell_type": "code",
   "execution_count": 14,
   "metadata": {},
   "outputs": [
    {
     "name": "stdout",
     "output_type": "stream",
     "text": [
      "nohtyp\n"
     ]
    }
   ],
   "source": [
    "#revere teh string\n",
    "s1 = \"python\"\n",
    "print (s1[-1::-1])"
   ]
  },
  {
   "cell_type": "code",
   "execution_count": 15,
   "metadata": {},
   "outputs": [
    {
     "name": "stdout",
     "output_type": "stream",
     "text": [
      "Polm\n"
     ]
    }
   ],
   "source": [
    "#Acces altenate characters\n",
    "s1 = \"Problem\"\n",
    "print (s1[::2])"
   ]
  },
  {
   "cell_type": "code",
   "execution_count": 16,
   "metadata": {},
   "outputs": [
    {
     "name": "stdout",
     "output_type": "stream",
     "text": [
      "gils\n"
     ]
    }
   ],
   "source": [
    "#Access alternate characters in reverse\n",
    "s1 = \"solving\"\n",
    "print(s1[::-2])"
   ]
  },
  {
   "cell_type": "code",
   "execution_count": 19,
   "metadata": {},
   "outputs": [
    {
     "name": "stdout",
     "output_type": "stream",
     "text": [
      "False\n"
     ]
    }
   ],
   "source": [
    "#def palindrome\n",
    "def palindrome(str):\n",
    "    if str == str[-1::-1]:\n",
    "        return True\n",
    "    else:\n",
    "        return False\n",
    "print(palindrome(\"French\"))\n",
    "    "
   ]
  },
  {
   "cell_type": "code",
   "execution_count": 22,
   "metadata": {},
   "outputs": [
    {
     "name": "stdout",
     "output_type": "stream",
     "text": [
      "D L I N "
     ]
    }
   ],
   "source": [
    "#program to check for uppercase chaaracters in string with ASCII\n",
    "def check(str1):\n",
    "    for i in range(len(str1)):\n",
    "        if ord(str1[i])>=65 and ord(str1[i])<=90:\n",
    "            print(str1[i], end=\" \")\n",
    "    return         \n",
    "check(\"DoLphIN\")"
   ]
  },
  {
   "cell_type": "code",
   "execution_count": 27,
   "metadata": {},
   "outputs": [
    {
     "name": "stdout",
     "output_type": "stream",
     "text": [
      "Enter a string:\tPyThOn\n",
      "same count\n"
     ]
    }
   ],
   "source": [
    "#program to print \"same count\" if the count of uppercase and lowercase characters is same \n",
    "#program to print \"Programming\" if the count is different\n",
    "def check(str1):\n",
    "    count1,count2=0,0\n",
    "    for i in str1:\n",
    "        if ord(i)>=65 and ord(i)<=90:\n",
    "            count1+=1\n",
    "        elif ord(i)>=97 and ord(i)<=122:\n",
    "            count2+=1\n",
    "    if count1 == count2:\n",
    "        return \"Same Count\"\n",
    "    else:\n",
    "        return \"programming\"\n",
    "str1 = str(input(\"Enter a string:\\t\"))\n",
    "print (check(str1))"
   ]
  },
  {
   "cell_type": "code",
   "execution_count": 29,
   "metadata": {},
   "outputs": [
    {
     "name": "stdout",
     "output_type": "stream",
     "text": [
      "Enter a string:\tApplicat8ion96\n",
      "8 9 6 "
     ]
    }
   ],
   "source": [
    "#program to extract the digits from the string \n",
    "def check(str1):\n",
    "    for i in str1:\n",
    "        if(ord(i)>=48 and ord(i)<=57):\n",
    "            print(i,end=\" \")\n",
    "str1 = str(input(\"Enter a string:\\t\"))\n",
    "check(str1)"
   ]
  },
  {
   "cell_type": "code",
   "execution_count": 31,
   "metadata": {},
   "outputs": [
    {
     "name": "stdout",
     "output_type": "stream",
     "text": [
      "Enter a string:\tApplicat8ion96\n",
      "23\n"
     ]
    }
   ],
   "source": [
    "#program to add digits in the string\n",
    "def check(str1):\n",
    "    rock=0\n",
    "    for i in str1:\n",
    "        if(ord(i)>=48 and ord(i)<=57):\n",
    "            rock=rock+int(i)\n",
    "    print (rock)        \n",
    "str1 = str(input(\"Enter a string:\\t\"))\n",
    "check(str1)"
   ]
  },
  {
   "cell_type": "code",
   "execution_count": 38,
   "metadata": {},
   "outputs": [
    {
     "name": "stdout",
     "output_type": "stream",
     "text": [
      "Enter a string:\tpython made easy\n",
      "MADE"
     ]
    }
   ],
   "source": [
    "#function to 2nd word in upper case\n",
    "str1 = str(input(\"Enter a string:\\t\"))\n",
    "spcount=0\n",
    "for i in range(len(str1)):\n",
    "    if ord(str1[i])== 32:\n",
    "        spcount+=1\n",
    "    if spcount ==1:\n",
    "        \n",
    "        if ord(str1[i])>=65 and ord(str1[i])<=90:\n",
    "            print(str1[i],end=\"\")\n",
    "        elif ord(str1[i])>=97 and ord(str1[i])<122:\n",
    "            print(chr(ord(str1[i])-32),end=\"\")\n",
    "    if spcount==2:\n",
    "        break\n",
    " \n",
    "\n",
    "\n",
    "        \n",
    "        \n",
    "        "
   ]
  },
  {
   "cell_type": "code",
   "execution_count": 40,
   "metadata": {
    "scrolled": false
   },
   "outputs": [
    {
     "name": "stdout",
     "output_type": "stream",
     "text": [
      "[8, 9, 10, 12]\n",
      "10\n",
      "[10, 12]\n",
      "[10, 12]\n",
      "[12, 10, 9, 8]\n"
     ]
    }
   ],
   "source": [
    "lists1=[8,9,10,12]\n",
    "print(lists1)\n",
    "print(lists1[2])\n",
    "print(lists1[2::])\n",
    "print(lists1[-2::])\n",
    "print(lists1[-1::-1])"
   ]
  },
  {
   "cell_type": "code",
   "execution_count": 5,
   "metadata": {},
   "outputs": [
    {
     "name": "stdout",
     "output_type": "stream",
     "text": [
      "[456, 123, 432, 'Vizag']\n",
      "[123, 432, 'Vizag']\n"
     ]
    }
   ],
   "source": [
    "list1=['Gitam',123,432,\"Vizag\"]\n",
    "list1[0]=456\n",
    "print (list1)\n",
    "del list1[0]\n",
    "print (list1)"
   ]
  },
  {
   "cell_type": "code",
   "execution_count": 7,
   "metadata": {},
   "outputs": [
    {
     "name": "stdout",
     "output_type": "stream",
     "text": [
      "4\n",
      "123\n",
      "Goa\n",
      "689\n",
      "Vizag\n",
      "[123, 'Goa', 689, 'Vizag', [1, 2, 3, 4]]\n",
      "4\n",
      "10\n",
      "1\n",
      "2.5\n"
     ]
    }
   ],
   "source": [
    "list1=[123, \"Goa\",689, \"Vizag\"]\n",
    "print (len(list1))\n",
    "for i in list1:\n",
    "    print(i)\n",
    "list2=[1,2,3,4]\n",
    "list1.append(list2)\n",
    "print (list1)\n",
    "print (max(list2))\n",
    "print (sum(list2))\n",
    "print (min(list2))\n",
    "print (sum(list2)/len(list2))"
   ]
  },
  {
   "cell_type": "code",
   "execution_count": 6,
   "metadata": {},
   "outputs": [
    {
     "name": "stdout",
     "output_type": "stream",
     "text": [
      "1\n",
      "3\n",
      "[1, 9, 45, 16, 25, 5, 30]\n",
      "[1, 5, 9, 16, 25, 30, 45]\n",
      "[1, 5, 9, 16, 25, 30, 45, 689, 456, 23]\n"
     ]
    }
   ],
   "source": [
    "#methods of list\n",
    "list1 = [1,9,16,25,5]\n",
    "list1.append(30)\n",
    "list1.insert(2,45)\n",
    "print (list1.count(9))\n",
    "print (list1.index(16))\n",
    "print (list1)\n",
    "list1.sort()\n",
    "print (list1)\n",
    "list2=[689,456,23]\n",
    "list1.extend(list2)\n",
    "print (list1)"
   ]
  },
  {
   "cell_type": "code",
   "execution_count": 7,
   "metadata": {},
   "outputs": [
    {
     "name": "stdout",
     "output_type": "stream",
     "text": [
      "9\n"
     ]
    }
   ],
   "source": [
    "#function to return the largest number\n",
    "def large(lis):\n",
    "    lis.sort()\n",
    "    return lis[-1]\n",
    "list1 = [1,5,3,7,4,9]\n",
    "print (large(list1))"
   ]
  },
  {
   "cell_type": "code",
   "execution_count": 9,
   "metadata": {},
   "outputs": [
    {
     "name": "stdout",
     "output_type": "stream",
     "text": [
      "1\n"
     ]
    }
   ],
   "source": [
    "def least(lis):\n",
    "    lis.sort()\n",
    "    return lis[0]\n",
    "list1 = [1,5,3,7,4,9]\n",
    "print (least(list1))"
   ]
  },
  {
   "cell_type": "code",
   "execution_count": 16,
   "metadata": {},
   "outputs": [
    {
     "name": "stdout",
     "output_type": "stream",
     "text": [
      "File is Successfully created and data has been inserted\n"
     ]
    }
   ],
   "source": [
    "#Function to create File and Write some data to some file\n",
    "#mode --w It creates the file and write to the same data\n",
    "#If the file already exists then it will overwrite it\n",
    "def createfile(filename):\n",
    "    f= open(filename, 'w')\n",
    "    for i in range(10):\n",
    "        f.write(\"This is the %d line\\n\"%i)\n",
    "    print(\"File is Successfully created and data has been inserted\")\n",
    "    return\n",
    "createfile(\"data.txt\")"
   ]
  },
  {
   "cell_type": "code",
   "execution_count": 17,
   "metadata": {},
   "outputs": [
    {
     "name": "stdout",
     "output_type": "stream",
     "text": [
      "Done\n"
     ]
    }
   ],
   "source": [
    "#append a written file in append mode\n",
    "def create(filename):\n",
    "    f= open(filename,'a')\n",
    "    f.write(\"\\nThis is an appended text : THE CONCLUSION\");\n",
    "    print(\"Done\")\n",
    "    return \n",
    "create(\"data.txt\")\n",
    "    "
   ]
  },
  {
   "cell_type": "code",
   "execution_count": 18,
   "metadata": {},
   "outputs": [
    {
     "name": "stdout",
     "output_type": "stream",
     "text": [
      "This is the 0 line\n",
      "This is the 1 line\n",
      "This is the 2 line\n",
      "This is the 3 line\n",
      "This is the 4 line\n",
      "This is the 5 line\n",
      "This is the 6 line\n",
      "This is the 7 line\n",
      "This is the 8 line\n",
      "This is the 9 line\n",
      "\n",
      "This is an appended text : THE CONCLUSION\n"
     ]
    }
   ],
   "source": [
    "#funciton to read a file\n",
    "def readfile(filename):\n",
    "    f = open(filename, \"r\")\n",
    "    if f.mode=='r':\n",
    "        s=f.read()\n",
    "        print(s)\n",
    "    f.close()\n",
    "    return \n",
    "readfile(\"data.txt\")"
   ]
  },
  {
   "cell_type": "code",
   "execution_count": 19,
   "metadata": {},
   "outputs": [
    {
     "name": "stdout",
     "output_type": "stream",
     "text": [
      "This is the 0 line\n",
      "This is the 1 line\n",
      "This is the 2 line\n",
      "This is the 3 line\n",
      "This is the 4 line\n",
      "This is the 5 line\n",
      "This is the 6 line\n",
      "This is the 7 line\n",
      "This is the 8 line\n",
      "This is the 9 line\n",
      "\n",
      "This is an appended text : THE CONCLUSION\n"
     ]
    }
   ],
   "source": [
    "def readboi(filename):\n",
    "    f = open(filename, 'r')\n",
    "    a=f.read()\n",
    "    print(a)\n",
    "    return \n",
    "readboi(\"data.txt\")"
   ]
  },
  {
   "cell_type": "code",
   "execution_count": 23,
   "metadata": {},
   "outputs": [
    {
     "data": {
      "text/plain": [
       "58"
      ]
     },
     "execution_count": 23,
     "metadata": {},
     "output_type": "execute_result"
    }
   ],
   "source": [
    "#file analysis - word count\n",
    "def wordcount(filename):\n",
    "    with open(filename,'r') as f:\n",
    "        if f.mode==\"r\":\n",
    "            a=f.read()\n",
    "            li = a.split()\n",
    "    return len(li)\n",
    "wordcount('data.txt')\n",
    "for"
   ]
  },
  {
   "cell_type": "code",
   "execution_count": 27,
   "metadata": {},
   "outputs": [
    {
     "name": "stdout",
     "output_type": "stream",
     "text": [
      "Enter a word to find:\tline\n",
      "10\n"
     ]
    }
   ],
   "source": [
    "#specific word count\n",
    "def specword(filename, word):\n",
    "    count=0\n",
    "    with open(filename,'r') as f:\n",
    "        if f.mode=='r':\n",
    "            a=f.read()\n",
    "            li=a.split()\n",
    "    for i in li:\n",
    "        if word == i:\n",
    "            count+=1\n",
    "        else:\n",
    "            continue\n",
    "    return count        \n",
    "word = str(input(\"Enter a word to find:\\t\"))\n",
    "print (specword(\"data.txt\",word))"
   ]
  },
  {
   "cell_type": "code",
   "execution_count": 28,
   "metadata": {},
   "outputs": [
    {
     "name": "stdout",
     "output_type": "stream",
     "text": [
      "Enter a word to find:\tline\n",
      "10\n"
     ]
    }
   ],
   "source": [
    "def specword(filename, word):\n",
    "    count=0\n",
    "    with open(filename,'r') as f:\n",
    "        if f.mode=='r':\n",
    "            a=f.read()\n",
    "            li=a.split()\n",
    "    return li.count(word)       \n",
    "word = str(input(\"Enter a word to find:\\t\"))\n",
    "print (specword(\"data.txt\",word))"
   ]
  },
  {
   "cell_type": "code",
   "execution_count": 32,
   "metadata": {},
   "outputs": [
    {
     "name": "stdout",
     "output_type": "stream",
     "text": [
      "12\n"
     ]
    }
   ],
   "source": [
    "def charcount(filename,character):\n",
    "    count=0\n",
    "    with open(filename,'r') as f:\n",
    "        if f.mode == 'r':\n",
    "            a=f.read()\n",
    "            li=a.split()\n",
    "        for word in li:\n",
    "            count+=word.count(character)\n",
    "    return count\n",
    "print (charcount(\"data.txt\",'t'))\n",
    "        "
   ]
  },
  {
   "cell_type": "code",
   "execution_count": 37,
   "metadata": {},
   "outputs": [
    {
     "data": {
      "text/plain": [
       "232"
      ]
     },
     "execution_count": 37,
     "metadata": {},
     "output_type": "execute_result"
    }
   ],
   "source": [
    "def charcount(filename):\n",
    "    with open(filename, 'r') as f:\n",
    "        if f.mode=='r':\n",
    "            a=f.read()\n",
    "            li=list(a)\n",
    "    return len(li)\n",
    "charcount(\"data.txt\")\n",
    "            "
   ]
  },
  {
   "cell_type": "code",
   "execution_count": 38,
   "metadata": {},
   "outputs": [
    {
     "data": {
      "text/plain": [
       "12"
      ]
     },
     "execution_count": 38,
     "metadata": {},
     "output_type": "execute_result"
    }
   ],
   "source": [
    "#for finding the nimber of lines \n",
    "def rowcount(filename):\n",
    "    with open(filename, 'r') as f:\n",
    "        if f.mode == 'r':\n",
    "            a=f.read()\n",
    "            lis=a.split('\\n')\n",
    "    return len(lis)\n",
    "rowcount(\"data.txt\")"
   ]
  },
  {
   "cell_type": "code",
   "execution_count": 39,
   "metadata": {},
   "outputs": [
    {
     "data": {
      "text/plain": [
       "'Upper case : 24 Lower case : 139'"
      ]
     },
     "execution_count": 39,
     "metadata": {},
     "output_type": "execute_result"
    }
   ],
   "source": [
    "#function to find the upper adn lower case characters\n",
    "def casecount(filename):\n",
    "    countup=0\n",
    "    countlow=0\n",
    "    with open(filename, 'r') as f:\n",
    "        if f.mode =='r':\n",
    "            a=f.read()\n",
    "            li = list(a)\n",
    "        for i in range(len(li)):\n",
    "            if ord(li[i])>=65 and  ord(li[i])<=90:\n",
    "                countup+=1\n",
    "            elif ord(li[i])>=97 and ord(li[i])<=122:\n",
    "                countlow+=1\n",
    "        output = 'Upper case : {0} Lower case : {1}'.format(countup,countlow)\n",
    "    return output\n",
    "casecount(\"data.txt\")    "
   ]
  },
  {
   "cell_type": "code",
   "execution_count": null,
   "metadata": {},
   "outputs": [],
   "source": [
    "#string problem statements\n",
    "def stringboi(chars):\n",
    "    if ord(chars)<=117:\n",
    "        if ord(chars)==117:\n",
    "            print(chr(118),end=\"\")\n",
    "        elif (ord(chars)>111):\n",
    "            print(chr(117),end=\"\")\n",
    "    if ord(chars)<=111:\n",
    "        if ord(chars)==111:\n",
    "            print(char(ord(112)))\n",
    "    \n"
   ]
  },
  {
   "cell_type": "code",
   "execution_count": 14,
   "metadata": {},
   "outputs": [
    {
     "name": "stdout",
     "output_type": "stream",
     "text": [
      "Enter a string:\torange\n",
      "puboif"
     ]
    }
   ],
   "source": [
    "#string problem statement \n",
    "def stringboi(chars):\n",
    "    if (ord(chars)==97 or ord(chars)==101 or ord(chars)==105 or ord(chars)==111 or ord(chars)==117):\n",
    "        print(chr(ord(chars)+1),end=\"\")\n",
    "    elif ord(chars)<117:\n",
    "        if ord(chars)<111:\n",
    "            if ord(chars)<105:\n",
    "                if ord(chars)<101:\n",
    "                    if ord(chars)<97:\n",
    "                        print (chr(97),end=\"\")\n",
    "                    else:\n",
    "                        print(chr(101),end=\"\")\n",
    "                else:\n",
    "                    print(chr(105),end=\"\")\n",
    "            else:\n",
    "                print(chr(111),end=\"\")\n",
    "        else:\n",
    "            print(chr(117),end=\"\")\n",
    "            \n",
    "stri = str(input(\"Enter a string:\\t\")) \n",
    "for i in range(len(stri)):\n",
    "    stringboi(stri[i])"
   ]
  },
  {
   "cell_type": "code",
   "execution_count": 9,
   "metadata": {},
   "outputs": [
    {
     "name": "stdout",
     "output_type": "stream",
     "text": [
      "Enter something:\t6\n",
      "8\n",
      "11\n"
     ]
    }
   ],
   "source": [
    "n = int(input(\"Enter something:\\t\"))\n",
    "if n<11:\n",
    "    if n<8:\n",
    "        print (8)\n",
    "print(11)"
   ]
  },
  {
   "cell_type": "markdown",
   "metadata": {},
   "source": []
  }
 ],
 "metadata": {
  "kernelspec": {
   "display_name": "Python 3",
   "language": "python",
   "name": "python3"
  },
  "language_info": {
   "codemirror_mode": {
    "name": "ipython",
    "version": 3
   },
   "file_extension": ".py",
   "mimetype": "text/x-python",
   "name": "python",
   "nbconvert_exporter": "python",
   "pygments_lexer": "ipython3",
   "version": "3.7.3"
  }
 },
 "nbformat": 4,
 "nbformat_minor": 2
}
